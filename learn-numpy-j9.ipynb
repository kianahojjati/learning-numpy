{
 "cells": [
  {
   "cell_type": "code",
   "execution_count": 1,
   "id": "6f91889f",
   "metadata": {},
   "outputs": [],
   "source": [
    "import numpy as np"
   ]
  },
  {
   "cell_type": "code",
   "execution_count": 14,
   "id": "e27626b3",
   "metadata": {},
   "outputs": [
    {
     "data": {
      "text/plain": [
       "array([('Kiana', 21), ('Anahita', 20)],\n",
       "      dtype=[('name', '<U10'), ('age', '<i4')])"
      ]
     },
     "execution_count": 14,
     "metadata": {},
     "output_type": "execute_result"
    }
   ],
   "source": [
    "name = np.array(['Kiana','Arghavan','Anahita'])\n",
    "age = np.array([21,22,20])\n",
    "\n",
    "na = np.zeros(3, dtype=[('name','U10'),('age','i4')])\n",
    "\n",
    "na['name'] = name\n",
    "na['age'] = age\n",
    "\n",
    "na[na['age'] < 22]"
   ]
  },
  {
   "cell_type": "code",
   "execution_count": 4,
   "id": "7af4067c",
   "metadata": {},
   "outputs": [
    {
     "data": {
      "text/plain": [
       "array([('', 0), ('', 0), ('', 0)],\n",
       "      dtype=[('name', '<U10'), ('age', '<i4')])"
      ]
     },
     "execution_count": 4,
     "metadata": {},
     "output_type": "execute_result"
    }
   ],
   "source": [
    "import numpy as np\n",
    "name = np.array(['amir','kevin','bob'])\n",
    "age = np.array([12,34,56])\n",
    "\n",
    "na = np.zeros(3, dtype={'names':('name','age'),'formats':('U10','i4')})\n",
    "\n",
    "na['name']=name\n",
    "na['age']"
   ]
  },
  {
   "cell_type": "code",
   "execution_count": null,
   "id": "1ca2fbbc",
   "metadata": {},
   "outputs": [],
   "source": []
  },
  {
   "cell_type": "code",
   "execution_count": null,
   "id": "498dfbcb",
   "metadata": {},
   "outputs": [],
   "source": []
  }
 ],
 "metadata": {
  "kernelspec": {
   "display_name": "Python 3 (ipykernel)",
   "language": "python",
   "name": "python3"
  },
  "language_info": {
   "codemirror_mode": {
    "name": "ipython",
    "version": 3
   },
   "file_extension": ".py",
   "mimetype": "text/x-python",
   "name": "python",
   "nbconvert_exporter": "python",
   "pygments_lexer": "ipython3",
   "version": "3.11.3"
  }
 },
 "nbformat": 4,
 "nbformat_minor": 5
}
