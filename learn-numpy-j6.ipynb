{
 "cells": [
  {
   "cell_type": "code",
   "execution_count": 1,
   "id": "5b9dffa2",
   "metadata": {},
   "outputs": [],
   "source": [
    "import numpy as np\n",
    "import numpy.ma as ma"
   ]
  },
  {
   "cell_type": "code",
   "execution_count": 2,
   "id": "a771e4a1",
   "metadata": {},
   "outputs": [
    {
     "data": {
      "text/plain": [
       "masked_array(\n",
       "  data=[[1.0, 2.0, 3.0],\n",
       "        [4.0, --, 6.0]],\n",
       "  mask=[[False, False, False],\n",
       "        [False,  True, False]],\n",
       "  fill_value=1e+20)"
      ]
     },
     "execution_count": 2,
     "metadata": {},
     "output_type": "execute_result"
    }
   ],
   "source": [
    "b = np.array([\n",
    "    [1,2,3],\n",
    "    [4,np.nan , 6]\n",
    "])\n",
    "\n",
    "m = ma.masked_array (b, mask=[0,0,0,0,1,0])\n",
    "m"
   ]
  },
  {
   "cell_type": "code",
   "execution_count": 3,
   "id": "0b11b77f",
   "metadata": {},
   "outputs": [
    {
     "data": {
      "text/plain": [
       "masked_array(\n",
       "  data=[[1.0, 2.0, 3.0],\n",
       "        [4.0, --, 6.0]],\n",
       "  mask=[[False, False, False],\n",
       "        [False,  True, False]],\n",
       "  fill_value=1e+20)"
      ]
     },
     "execution_count": 3,
     "metadata": {},
     "output_type": "execute_result"
    }
   ],
   "source": [
    "b = np.array([\n",
    "    [1,2,3],\n",
    "    [4,np.nan , 6]\n",
    "])\n",
    "\n",
    "m = ma.masked_invalid(b)\n",
    "m"
   ]
  },
  {
   "cell_type": "code",
   "execution_count": 4,
   "id": "ceddbc5f",
   "metadata": {},
   "outputs": [
    {
     "data": {
      "text/plain": [
       "masked_array(data=[--, --, --, --, 1, 2, 3],\n",
       "             mask=[ True,  True,  True,  True, False, False, False],\n",
       "       fill_value=999999)"
      ]
     },
     "execution_count": 4,
     "metadata": {},
     "output_type": "execute_result"
    }
   ],
   "source": [
    "a = np.arange(-3,4)\n",
    "\n",
    "m = ma.masked_where(a <= 0 , a)\n",
    "m"
   ]
  },
  {
   "cell_type": "code",
   "execution_count": 5,
   "id": "b11d6c24",
   "metadata": {},
   "outputs": [
    {
     "data": {
      "text/plain": [
       "masked_array(data=[-3, -2, -1, --, 1, 2, 3],\n",
       "             mask=[False, False, False,  True, False, False, False],\n",
       "       fill_value=0)"
      ]
     },
     "execution_count": 5,
     "metadata": {},
     "output_type": "execute_result"
    }
   ],
   "source": [
    "a = np.arange(-3,4)\n",
    "\n",
    "m = ma.masked_values(a,0)\n",
    "m"
   ]
  },
  {
   "cell_type": "code",
   "execution_count": null,
   "id": "d93d03d4",
   "metadata": {},
   "outputs": [],
   "source": []
  }
 ],
 "metadata": {
  "kernelspec": {
   "display_name": "Python 3 (ipykernel)",
   "language": "python",
   "name": "python3"
  },
  "language_info": {
   "codemirror_mode": {
    "name": "ipython",
    "version": 3
   },
   "file_extension": ".py",
   "mimetype": "text/x-python",
   "name": "python",
   "nbconvert_exporter": "python",
   "pygments_lexer": "ipython3",
   "version": "3.11.3"
  }
 },
 "nbformat": 4,
 "nbformat_minor": 5
}
